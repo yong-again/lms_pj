{
 "cells": [
  {
   "cell_type": "code",
   "execution_count": 12,
   "metadata": {},
   "outputs": [],
   "source": [
    "import pandas as pd\n",
    "import numpy as np\n",
    "import warnings\n",
    "import matplotlib.pyplot as plt\n",
    "\n",
    "\n",
    "from sklearn.datasets import load_diabetes\n",
    "from sklearn.model_selection import train_test_split\n",
    "warnings.filterwarnings('ignore')"
   ]
  },
  {
   "cell_type": "code",
   "execution_count": 13,
   "metadata": {},
   "outputs": [],
   "source": [
    "data = load_diabetes()\n",
    "df = pd.DataFrame(data=np.c_[data['data'], data['target']], columns=data['feature_names'] + ['target'])"
   ]
  },
  {
   "cell_type": "code",
   "execution_count": 14,
   "metadata": {},
   "outputs": [
    {
     "name": "stdout",
     "output_type": "stream",
     "text": [
      "X shape:  (442, 10)\n",
      "Y shape : (442,)\n",
      "X_train shape:  (309, 10)\n",
      "X_test shape:  (133, 10)\n",
      "Y_train shape:  (309,)\n",
      "Y_test shape: (133,)\n"
     ]
    }
   ],
   "source": [
    "Y = load_diabetes().target\n",
    "X = load_diabetes().data\n",
    "X_train, X_test, y_train, y_test = train_test_split(X, Y, test_size=0.3, random_state=42)\n",
    "\n",
    "print(\"X shape: \", X.shape)\n",
    "print(\"Y shape :\", Y.shape)\n",
    "print(\"X_train shape: \", X_train.shape)\n",
    "print(\"X_test shape: \", X_test.shape)\n",
    "print(\"Y_train shape: \", y_train.shape)\n",
    "print(\"Y_test shape:\", y_test.shape)\n",
    "\n",
    "train_data = pd.DataFrame(X_train)\n",
    "train_data['target'] = y_train\n",
    "\n",
    "X_test = np.array(X_test)\n",
    "y_test = np.array(y_test)"
   ]
  },
  {
   "cell_type": "code",
   "execution_count": 15,
   "metadata": {},
   "outputs": [
    {
     "data": {
      "text/html": [
       "<div>\n",
       "<style scoped>\n",
       "    .dataframe tbody tr th:only-of-type {\n",
       "        vertical-align: middle;\n",
       "    }\n",
       "\n",
       "    .dataframe tbody tr th {\n",
       "        vertical-align: top;\n",
       "    }\n",
       "\n",
       "    .dataframe thead th {\n",
       "        text-align: right;\n",
       "    }\n",
       "</style>\n",
       "<table border=\"1\" class=\"dataframe\">\n",
       "  <thead>\n",
       "    <tr style=\"text-align: right;\">\n",
       "      <th></th>\n",
       "      <th>0</th>\n",
       "      <th>1</th>\n",
       "      <th>2</th>\n",
       "      <th>3</th>\n",
       "      <th>4</th>\n",
       "      <th>5</th>\n",
       "      <th>6</th>\n",
       "      <th>7</th>\n",
       "      <th>8</th>\n",
       "      <th>9</th>\n",
       "      <th>target</th>\n",
       "    </tr>\n",
       "  </thead>\n",
       "  <tbody>\n",
       "    <tr>\n",
       "      <th>0</th>\n",
       "      <td>0.030811</td>\n",
       "      <td>0.050680</td>\n",
       "      <td>0.032595</td>\n",
       "      <td>0.049415</td>\n",
       "      <td>-0.040096</td>\n",
       "      <td>-0.043589</td>\n",
       "      <td>-0.069172</td>\n",
       "      <td>0.034309</td>\n",
       "      <td>0.063015</td>\n",
       "      <td>0.003064</td>\n",
       "      <td>208.0</td>\n",
       "    </tr>\n",
       "    <tr>\n",
       "      <th>1</th>\n",
       "      <td>0.074401</td>\n",
       "      <td>-0.044642</td>\n",
       "      <td>0.085408</td>\n",
       "      <td>0.063187</td>\n",
       "      <td>0.014942</td>\n",
       "      <td>0.013091</td>\n",
       "      <td>0.015505</td>\n",
       "      <td>-0.002592</td>\n",
       "      <td>0.006207</td>\n",
       "      <td>0.085907</td>\n",
       "      <td>261.0</td>\n",
       "    </tr>\n",
       "    <tr>\n",
       "      <th>2</th>\n",
       "      <td>-0.056370</td>\n",
       "      <td>0.050680</td>\n",
       "      <td>-0.010517</td>\n",
       "      <td>0.025315</td>\n",
       "      <td>0.023198</td>\n",
       "      <td>0.040022</td>\n",
       "      <td>-0.039719</td>\n",
       "      <td>0.034309</td>\n",
       "      <td>0.020609</td>\n",
       "      <td>0.056912</td>\n",
       "      <td>179.0</td>\n",
       "    </tr>\n",
       "  </tbody>\n",
       "</table>\n",
       "</div>"
      ],
      "text/plain": [
       "          0         1         2         3         4         5         6  \\\n",
       "0  0.030811  0.050680  0.032595  0.049415 -0.040096 -0.043589 -0.069172   \n",
       "1  0.074401 -0.044642  0.085408  0.063187  0.014942  0.013091  0.015505   \n",
       "2 -0.056370  0.050680 -0.010517  0.025315  0.023198  0.040022 -0.039719   \n",
       "\n",
       "          7         8         9  target  \n",
       "0  0.034309  0.063015  0.003064   208.0  \n",
       "1 -0.002592  0.006207  0.085907   261.0  \n",
       "2  0.034309  0.020609  0.056912   179.0  "
      ]
     },
     "execution_count": 15,
     "metadata": {},
     "output_type": "execute_result"
    }
   ],
   "source": [
    "train_data.head(3)"
   ]
  },
  {
   "cell_type": "markdown",
   "metadata": {},
   "source": [
    "# Summarize Model"
   ]
  },
  {
   "cell_type": "markdown",
   "metadata": {},
   "source": [
    "## MSE"
   ]
  },
  {
   "cell_type": "markdown",
   "metadata": {},
   "source": [
    "$$ \\begin{align*} \n",
    "\n",
    "Error &= (Actual Value - Predicted Value) \\\\\n",
    "MSE &= \\min_{w, b} \\sum_{i=1}^n (error)^2 \\\\\n",
    "&= \\min_{w, b} \\sum_{i=1}^n (ActualValue_{y_i} - Predicted \\;\\; Value_{\\hat y_i})^2\n",
    "\n",
    "\n",
    "\n",
    "\\end{align*} $$\n"
   ]
  },
  {
   "cell_type": "markdown",
   "metadata": {},
   "source": [
    "## Predictions"
   ]
  },
  {
   "cell_type": "markdown",
   "metadata": {},
   "source": [
    "$$ Prediction(\\hat y_i) = W^TX_i + b $$"
   ]
  },
  {
   "cell_type": "markdown",
   "metadata": {},
   "source": [
    "## Loss Functions"
   ]
  },
  {
   "cell_type": "markdown",
   "metadata": {},
   "source": [
    "$$ L(w, b)  \\rarr  \\min_{w, b} \\sum_{i=1}^n (y_i - (W^Tx_i + b))^2 $$"
   ]
  },
  {
   "cell_type": "markdown",
   "metadata": {},
   "source": [
    "## Gradient Descent"
   ]
  },
  {
   "cell_type": "markdown",
   "metadata": {},
   "source": [
    "$$ {\\partial L(w) \\over\\partial w} = \\sum_{i=1}^n (-2x_i)(y_i - (W^Tx_i + b)) $$"
   ]
  },
  {
   "cell_type": "markdown",
   "metadata": {},
   "source": [
    "## Update Weights & bias\n",
    "\n"
   ]
  },
  {
   "cell_type": "markdown",
   "metadata": {},
   "source": [
    "- weight\n",
    "$$ r = learning Rate $$\n",
    "$$ W_{j+1} = w_j - r ({\\partial L \\over\\partial w})_{w_j} $$"
   ]
  },
  {
   "cell_type": "markdown",
   "metadata": {},
   "source": [
    "- bias \n",
    "$$ \\begin{align*} \n",
    "{\\partial L \\over\\partial b} &= \\sum_{i=1}^n (-2)(y_i - (W^Tx_i + b)) \\\\ \n",
    "b_{j+1} &= b_j - r ({\\partial L \\over\\partial w})_{b_j}\n",
    "\n",
    "\\end{align*}$$"
   ]
  },
  {
   "cell_type": "markdown",
   "metadata": {},
   "source": [
    "---"
   ]
  },
  {
   "cell_type": "markdown",
   "metadata": {},
   "source": [
    "## Regression Model Implementation with GD"
   ]
  },
  {
   "cell_type": "code",
   "execution_count": 16,
   "metadata": {},
   "outputs": [],
   "source": [
    "def customGD(train_data, learning_rate, n_iter, k, divideby):\n",
    "    \n",
    "    # Initailzie Weights and Bias per Training Data\n",
    "    w = np.zeros(shape=(1, train_data.shape[1] - 1))\n",
    "    b = 0\n",
    "    \n",
    "    cur_iter = 1\n",
    "    while(cur_iter <= n_iter):\n",
    "        \n",
    "        # Data load of size K\n",
    "        temp = train_data.sample(k)\n",
    "        \n",
    "        # create X, y dataset from temp\n",
    "        y = np.array(temp['target'])\n",
    "        x = np.array(temp.drop('target', axis=1))\n",
    "        \n",
    "        #  initial gradients\n",
    "        w_gradient = np.zeros(shape=(1, train_data.shape[1] - 1))\n",
    "        b_gradient = 0\n",
    "        \n",
    "        # Calculating gradeints for point in our K sized Dataset\n",
    "        for i in range(k):\n",
    "            prediction = np.dot(w, x[i])  + b\n",
    "            w_gradient = w_gradient+(-2) * x[i] * (y[i] - (prediction))\n",
    "            b_gradient = b_gradient+(-2) * (y[i] - (prediction))\n",
    "        \n",
    "        # updating weights and bias\n",
    "        w = w - learning_rate * (w_gradient / k)\n",
    "        b = b - learning_rate * (b_gradient / k)\n",
    "        \n",
    "        # Incrementing the iteration value\n",
    "        cur_iter += 1\n",
    "        \n",
    "        # Dividing learing rate by specified value\n",
    "        learning_rate = learning_rate / divideby\n",
    "        \n",
    "    return w, b"
   ]
  },
  {
   "cell_type": "code",
   "execution_count": 18,
   "metadata": {},
   "outputs": [],
   "source": [
    "def predict(x, w, b):\n",
    "    y_pred = []\n",
    "    for i in range(len(x)):\n",
    "        y = np.asscalar(np.dot(w, x[i]) + b)\n",
    "        y_pred.append(y)\n",
    "    \n",
    "    return np.array(y_pred)"
   ]
  },
  {
   "cell_type": "code",
   "execution_count": 19,
   "metadata": {},
   "outputs": [],
   "source": [
    "def MSE(actual_value, predicted_value):\n",
    "    return np.square(np.subtract(actual_value, predicted_value)).mean()"
   ]
  },
  {
   "cell_type": "code",
   "execution_count": 10,
   "metadata": {},
   "outputs": [
    {
     "ename": "TypeError",
     "evalue": "'float' object is not subscriptable",
     "output_type": "error",
     "traceback": [
      "\u001b[0;31m---------------------------------------------------------------------------\u001b[0m",
      "\u001b[0;31mTypeError\u001b[0m                                 Traceback (most recent call last)",
      "Cell \u001b[0;32mIn [10], line 14\u001b[0m\n\u001b[1;32m     10\u001b[0m scores \u001b[39m=\u001b[39m []\n\u001b[1;32m     12\u001b[0m \u001b[39mfor\u001b[39;00m i, value \u001b[39min\u001b[39;00m \u001b[39menumerate\u001b[39m(combinations):\n\u001b[0;32m---> 14\u001b[0m     w, b \u001b[39m=\u001b[39m customGD(train_data\u001b[39m=\u001b[39mtrain_data, learning_rate\u001b[39m=\u001b[39mvalue[i][\u001b[39m0\u001b[39;49m], n_iter\u001b[39m=\u001b[39mvalue[i\u001b[39m+\u001b[39m\u001b[39m1\u001b[39m][\u001b[39m1\u001b[39m], divideby\u001b[39m=\u001b[39m\u001b[39m1\u001b[39m, k\u001b[39m=\u001b[39m\u001b[39m10\u001b[39m)\n\u001b[1;32m     15\u001b[0m     y_pred_customGD \u001b[39m=\u001b[39m predict(X_test, w, b)\n\u001b[1;32m     16\u001b[0m     mse \u001b[39m=\u001b[39m MSE(y_test, y_pred_customGD)\n",
      "\u001b[0;31mTypeError\u001b[0m: 'float' object is not subscriptable"
     ]
    }
   ],
   "source": [
    "from itertools import product\n",
    "params = [\n",
    "    [0.1, 0.01, 0.05, 0.001, 0.005, 0.0001, 0.005], # learing rate\n",
    "    [100, 200, 300, 400, 500, 1000, 2000] # n_iter\n",
    "]\n",
    "\n",
    "combinations = list(product(*params))\n",
    "\n",
    "best_params = []\n",
    "scores = []\n",
    "\n",
    "for i, value in enumerate(combinations):\n",
    "    \n",
    "    w, b = customGD(train_data=train_data, learning_rate=value[i][0], n_iter=value[i+1][1], divideby=1, k=10)\n",
    "    y_pred_customGD = predict(X_test, w, b)\n",
    "    mse = MSE(y_test, y_pred_customGD)\n",
    "    if mse < 3000:\n",
    "        print(\"Best learing rate: {}, Best n_iter: {}\".format(value[i], value[i+1]))\n",
    "        print(\"Best MSE is {0:0.2f}\".format(mse))\n",
    "        plt.scatter(y_test, y_pred_customGD)\n",
    "        plt.grid()\n",
    "        plt.xlabel('Actual Y')\n",
    "        plt.ylabel('predicted Y')\n",
    "        plt.title('Scatter plpt from actual y and predicted y')\n",
    "        plt.show()"
   ]
  },
  {
   "cell_type": "code",
   "execution_count": 34,
   "metadata": {},
   "outputs": [
    {
     "data": {
      "text/plain": [
       "2909.101353975773"
      ]
     },
     "execution_count": 34,
     "metadata": {},
     "output_type": "execute_result"
    }
   ],
   "source": [
    "w, b = customGD(train_data=train_data, learning_rate=0.1, n_iter=2000, divideby=1, k=10)\n",
    "y_pred_customGD = predict(X_test, w, b)\n",
    "mse = MSE(y_test, y_pred_customGD)\n",
    "mse"
   ]
  },
  {
   "cell_type": "code",
   "execution_count": null,
   "metadata": {},
   "outputs": [],
   "source": []
  }
 ],
 "metadata": {
  "kernelspec": {
   "display_name": "Python 3.8.13 ('tf2.8')",
   "language": "python",
   "name": "python3"
  },
  "language_info": {
   "codemirror_mode": {
    "name": "ipython",
    "version": 3
   },
   "file_extension": ".py",
   "mimetype": "text/x-python",
   "name": "python",
   "nbconvert_exporter": "python",
   "pygments_lexer": "ipython3",
   "version": "3.8.13 | packaged by conda-forge | (default, Mar 25 2022, 06:05:16) \n[Clang 12.0.1 ]"
  },
  "orig_nbformat": 4,
  "vscode": {
   "interpreter": {
    "hash": "20b65602904a6ff3fc15d4434a7c8a93588f98c76b1baa36944f5d2c44ba5b97"
   }
  }
 },
 "nbformat": 4,
 "nbformat_minor": 2
}
