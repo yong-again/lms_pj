{
 "cells": [
  {
   "cell_type": "markdown",
   "metadata": {},
   "source": [
    "## 1. Libary Import & Dataset Load"
   ]
  },
  {
   "cell_type": "code",
   "execution_count": 94,
   "metadata": {},
   "outputs": [],
   "source": [
    "import pandas as pd\n",
    "import numpy as np\n",
    "import warnings\n",
    "import matplotlib as mpl\n",
    "import matplotlib.pyplot as plt\n",
    "\n",
    "from sklearn.datasets import load_digits\n",
    "from sklearn.model_selection import train_test_split, GridSearchCV\n",
    "from sklearn import metrics\n",
    "\n",
    "warnings.filterwarnings(\"ignore\") # 오류 문구 무시"
   ]
  },
  {
   "cell_type": "code",
   "execution_count": 40,
   "metadata": {},
   "outputs": [
    {
     "data": {
      "text/plain": [
       "dict_keys(['data', 'target', 'frame', 'feature_names', 'target_names', 'images', 'DESCR'])"
      ]
     },
     "execution_count": 40,
     "metadata": {},
     "output_type": "execute_result"
    }
   ],
   "source": [
    "digits = load_digits()\n",
    "digits.keys()"
   ]
  },
  {
   "cell_type": "code",
   "execution_count": 41,
   "metadata": {},
   "outputs": [
    {
     "data": {
      "text/plain": [
       "(1797, 64)"
      ]
     },
     "metadata": {},
     "output_type": "display_data"
    },
    {
     "data": {
      "text/plain": [
       "(1797,)"
      ]
     },
     "metadata": {},
     "output_type": "display_data"
    }
   ],
   "source": [
    "# Asign Feature Data & Label Data\n",
    "X, y = digits[\"data\"], digits[\"target\"]\n",
    "display(X.shape)\n",
    "display(y.shape)"
   ]
  },
  {
   "cell_type": "markdown",
   "metadata": {},
   "source": [
    "## 2. Describe Data"
   ]
  },
  {
   "cell_type": "code",
   "execution_count": 192,
   "metadata": {},
   "outputs": [
    {
     "data": {
      "text/plain": [
       "dict_keys(['data', 'target', 'frame', 'feature_names', 'target_names', 'images', 'DESCR'])"
      ]
     },
     "metadata": {},
     "output_type": "display_data"
    },
    {
     "data": {
      "text/plain": [
       "array([0, 1, 2, 3, 4, 5, 6, 7, 8, 9])"
      ]
     },
     "metadata": {},
     "output_type": "display_data"
    },
    {
     "data": {
      "text/plain": [
       "['pixel_0_0',\n",
       " 'pixel_0_1',\n",
       " 'pixel_0_2',\n",
       " 'pixel_0_3',\n",
       " 'pixel_0_4',\n",
       " 'pixel_0_5',\n",
       " 'pixel_0_6',\n",
       " 'pixel_0_7',\n",
       " 'pixel_1_0',\n",
       " 'pixel_1_1',\n",
       " 'pixel_1_2',\n",
       " 'pixel_1_3',\n",
       " 'pixel_1_4',\n",
       " 'pixel_1_5',\n",
       " 'pixel_1_6',\n",
       " 'pixel_1_7',\n",
       " 'pixel_2_0',\n",
       " 'pixel_2_1',\n",
       " 'pixel_2_2',\n",
       " 'pixel_2_3',\n",
       " 'pixel_2_4',\n",
       " 'pixel_2_5',\n",
       " 'pixel_2_6',\n",
       " 'pixel_2_7',\n",
       " 'pixel_3_0',\n",
       " 'pixel_3_1',\n",
       " 'pixel_3_2',\n",
       " 'pixel_3_3',\n",
       " 'pixel_3_4',\n",
       " 'pixel_3_5',\n",
       " 'pixel_3_6',\n",
       " 'pixel_3_7',\n",
       " 'pixel_4_0',\n",
       " 'pixel_4_1',\n",
       " 'pixel_4_2',\n",
       " 'pixel_4_3',\n",
       " 'pixel_4_4',\n",
       " 'pixel_4_5',\n",
       " 'pixel_4_6',\n",
       " 'pixel_4_7',\n",
       " 'pixel_5_0',\n",
       " 'pixel_5_1',\n",
       " 'pixel_5_2',\n",
       " 'pixel_5_3',\n",
       " 'pixel_5_4',\n",
       " 'pixel_5_5',\n",
       " 'pixel_5_6',\n",
       " 'pixel_5_7',\n",
       " 'pixel_6_0',\n",
       " 'pixel_6_1',\n",
       " 'pixel_6_2',\n",
       " 'pixel_6_3',\n",
       " 'pixel_6_4',\n",
       " 'pixel_6_5',\n",
       " 'pixel_6_6',\n",
       " 'pixel_6_7',\n",
       " 'pixel_7_0',\n",
       " 'pixel_7_1',\n",
       " 'pixel_7_2',\n",
       " 'pixel_7_3',\n",
       " 'pixel_7_4',\n",
       " 'pixel_7_5',\n",
       " 'pixel_7_6',\n",
       " 'pixel_7_7']"
      ]
     },
     "metadata": {},
     "output_type": "display_data"
    }
   ],
   "source": [
    "display(digits.keys())\n",
    "display(digits.target_names)\n",
    "display(digits.feature_names)"
   ]
  },
  {
   "cell_type": "code",
   "execution_count": 42,
   "metadata": {},
   "outputs": [
    {
     "data": {
      "text/plain": [
       "array([[ 0.,  0.,  5., ...,  0.,  0.,  0.],\n",
       "       [ 0.,  0.,  0., ..., 10.,  0.,  0.],\n",
       "       [ 0.,  0.,  0., ..., 16.,  9.,  0.],\n",
       "       ...,\n",
       "       [ 0.,  0.,  1., ...,  6.,  0.,  0.],\n",
       "       [ 0.,  0.,  2., ..., 12.,  0.,  0.],\n",
       "       [ 0.,  0., 10., ..., 12.,  1.,  0.]])"
      ]
     },
     "metadata": {},
     "output_type": "display_data"
    },
    {
     "data": {
      "text/plain": [
       "array([0, 1, 2, ..., 8, 9, 8])"
      ]
     },
     "metadata": {},
     "output_type": "display_data"
    }
   ],
   "source": [
    "display(X[:])\n",
    "display(y[:])"
   ]
  },
  {
   "cell_type": "code",
   "execution_count": 122,
   "metadata": {},
   "outputs": [
    {
     "data": {
      "image/png": "[encoded data removed]",
      "text/plain": [
       "<Figure size 800x200 with 9 Axes>"
      ]
     },
     "metadata": {},
     "output_type": "display_data"
    }
   ],
   "source": [
    "# Image Show\n",
    "samples = [0, 5, 7, 36, 1, 25, 39, 31, 33]\n",
    "d = []\n",
    "for i in range(len(samples)):\n",
    "    d.append(digits.images[samples[i]])\n",
    "\n",
    "plt.figure(figsize=(8, 2))\n",
    "for i in range(len(d)):\n",
    "    plt.subplot(1, len(d), i + 1)\n",
    "    plt.imshow(d[i], interpolation='nearest', cmap=plt.cm.bone_r)\n",
    "    plt.grid(False)\n",
    "    plt.xticks([])\n",
    "    plt.yticks([])\n",
    "    plt.title('image {} '.format(i + 1))\n",
    "plt.tight_layout\n",
    "plt.show()"
   ]
  },
  {
   "cell_type": "markdown",
   "metadata": {},
   "source": [
    "## 3. Split Train data & Test data"
   ]
  },
  {
   "cell_type": "code",
   "execution_count": 62,
   "metadata": {},
   "outputs": [],
   "source": [
    "X_train, X_test, y_train, y_test = train_test_split(\n",
    "    X, y, test_size=0.2, random_state=42)"
   ]
  },
  {
   "cell_type": "code",
   "execution_count": 71,
   "metadata": {},
   "outputs": [
    {
     "data": {
      "text/plain": [
       "(1437, 64)"
      ]
     },
     "metadata": {},
     "output_type": "display_data"
    },
    {
     "data": {
      "text/plain": [
       "(360, 64)"
      ]
     },
     "metadata": {},
     "output_type": "display_data"
    },
    {
     "data": {
      "text/plain": [
       "(360,)"
      ]
     },
     "metadata": {},
     "output_type": "display_data"
    },
    {
     "data": {
      "text/plain": [
       "(360,)"
      ]
     },
     "metadata": {},
     "output_type": "display_data"
    }
   ],
   "source": [
    "display(X_train.shape)\n",
    "display(X_test.shape)\n",
    "display(y_test.shape)\n",
    "display(y_test.shape)"
   ]
  },
  {
   "cell_type": "markdown",
   "metadata": {},
   "source": [
    "## 4. Model Selection\n",
    "- 최적의 파라미터를 찾기 위해 GridSearchCV를 사용했습니다.\n",
    "- Metric은 F1 Score, Precision Score, Recall Score를 사용 하였습니다.\n",
    "  - 다중 분류 문제이기 때문에 단순히 ACC SCORE로 가지고 평가하기는 무리가 있어보여 선택\n",
    "  - 분류 모델들을 비교 할 경우 F1 스코어로 비교 할 시 편리함"
   ]
  },
  {
   "cell_type": "code",
   "execution_count": 196,
   "metadata": {},
   "outputs": [],
   "source": [
    "def best_model(dt=None, rf=None, svm=None, sgd=None, lr=None):\n",
    "    \"\"\"_summary_\n",
    "    \n",
    "    Args:\n",
    "        dt (_type_, optional): _description_. Defaults to None.\n",
    "        rf (_type_, optional): _description_. Defaults to None.\n",
    "        svm (_type_, optional): _description_. Defaults to None.\n",
    "        sgd (_type_, optional): _description_. Defaults to None.\n",
    "        lr (_type_, optional): _description_. Defaults to None.\n",
    "        \n",
    "    Output:\n",
    "        best parameters\n",
    "        best precision score\n",
    "        best recall score\n",
    "    \"\"\"\n",
    "    ###################\n",
    "    ## Libary Import\n",
    "    ###################\n",
    "    from sklearn.datasets import load_digits\n",
    "    from sklearn.model_selection import train_test_split, GridSearchCV\n",
    "    from sklearn import metrics\n",
    "\n",
    "    ###################\n",
    "    ## Decision Trees\n",
    "    ###################\n",
    "    if dt:\n",
    "        from sklearn.tree import DecisionTreeClassifier\n",
    "        \n",
    "        clf = DecisionTreeClassifier()\n",
    "        params = {\n",
    "            'max_depth':[1, 2, 3], \n",
    "            'min_samples_split':[2, 3]\n",
    "        }\n",
    "        grid_search = GridSearchCV(clf, param_grid=params, verbose=1, cv=3, refit=True, n_jobs=1)\n",
    "        grid_search.fit(X_train, y_train)\n",
    "        \n",
    "    ###################\n",
    "    ## Random Forest\n",
    "    ###################\n",
    "    elif rf:\n",
    "        from sklearn.ensemble import RandomForestClassifier\n",
    "        rfc = RandomForestClassifier()\n",
    "        params = {\n",
    "            'bootstrap': [True],\n",
    "            'max_depth': [80, 90, 100, 110],\n",
    "            'max_features': [2, 3],\n",
    "            'min_samples_leaf': [3, 4, 5],\n",
    "            'min_samples_split': [8, 10, 12],\n",
    "            'n_estimators': [100, 200, 300, 1000]\n",
    "        }\n",
    "        grid_search = GridSearchCV(estimator=rfc, param_grid=params, cv=3, n_jobs=1, verbose=1, refit=True)\n",
    "        grid_search.fit(X_train, y_train)\n",
    "    \n",
    "    ###################\n",
    "    ## SVM\n",
    "    ###################\n",
    "    elif svm:\n",
    "        from sklearn import svm\n",
    "        \n",
    "        clf = svm.SVC()\n",
    "        params = {\n",
    "            'C':[0.001,0.01,0.1,1,10,100],\n",
    "            'gamma':[0.001,0.01,0.1,1,10,100] \n",
    "        }\n",
    "\n",
    "        grid_search = GridSearchCV(clf, param_grid=params, cv=3, refit=True, n_jobs=1)\n",
    "        grid_search.fit(X_train, y_train)\n",
    "        \n",
    "    ###################\n",
    "    ## SGD\n",
    "    ###################\n",
    "    elif sgd:\n",
    "        from sklearn.linear_model import SGDClassifier\n",
    "        sgdc = SGDClassifier()\n",
    "        params = {\n",
    "            \"loss\" : [\"hinge\", \"log\", \"squared_hinge\", \"modified_huber\"],\n",
    "            \"alpha\" : [0.0001, 0.001, 0.01, 0.1],\n",
    "            \"penalty\" : [\"l2\", \"l1\", \"none\"]\n",
    "            }\n",
    "        \n",
    "        grid_search = GridSearchCV(sgdc, param_grid=params, cv=3, verbose=1, n_jobs=1, refit=True)\n",
    "        grid_search.fit(X_train, y_train)\n",
    "        \n",
    "    #######################\n",
    "    ## Logistic Regression\n",
    "    #######################\n",
    "    elif lr:\n",
    "        from sklearn.linear_model import LogisticRegression\n",
    "        \n",
    "        clf = LogisticRegression()\n",
    "        params={\n",
    "            \"C\":np.logspace(-3,3,7), \n",
    "            \"penalty\":[\"l1\",\"l2\"]\n",
    "        }\n",
    "        grid_search = GridSearchCV(clf, param_grid=params, cv=3, verbose=1, n_jobs=1, refit=True)\n",
    "        grid_search.fit(X_train, y_train)\n",
    "\n",
    "    ####################\n",
    "    ## Best Parameters\n",
    "    ####################\n",
    "    estimator = grid_search.best_estimator_\n",
    "    pred = estimator.predict(X_test)\n",
    "    \n",
    "    \n",
    "    precision_score = metrics.precision_score(y_test, pred, average='macro')\n",
    "    recall_score = metrics.recall_score(y_test, pred, average='macro')\n",
    "    f1_score = metrics.f1_score(y_test, pred, average='macro')\n",
    "    \n",
    "    print('GridSearchCV Best Parameters: {}'.format(grid_search.best_params_))\n",
    "    print('GridSearchCV Best F1-Score: {0:0.4f}'.format(f1_score))\n",
    "    \n",
    "    print('GridSearchCV Best Precision Score: {0:0.4f}'.format(precision_score))\n",
    "    print('GridSearchCV Best Recall Score: {0:0.4f}'.format(recall_score)) "
   ]
  },
  {
   "cell_type": "markdown",
   "metadata": {},
   "source": [
    "### 4-1. Desicion Tree"
   ]
  },
  {
   "cell_type": "code",
   "execution_count": 197,
   "metadata": {},
   "outputs": [
    {
     "name": "stdout",
     "output_type": "stream",
     "text": [
      "Fitting 3 folds for each of 6 candidates, totalling 18 fits\n",
      "GridSearchCV Best Parameters: {'max_depth': 3, 'min_samples_split': 2}\n",
      "GridSearchCV Best F1-Score: 0.3962\n",
      "GridSearchCV Best Precision Score: 0.4271\n",
      "GridSearchCV Best Recall Score: 0.4719\n"
     ]
    }
   ],
   "source": [
    "best_model(dt=True)"
   ]
  },
  {
   "cell_type": "markdown",
   "metadata": {},
   "source": [
    "### 4-2. Random Forest"
   ]
  },
  {
   "cell_type": "code",
   "execution_count": 198,
   "metadata": {},
   "outputs": [
    {
     "name": "stdout",
     "output_type": "stream",
     "text": [
      "Fitting 3 folds for each of 288 candidates, totalling 864 fits\n",
      "GridSearchCV Best Parameters: {'bootstrap': True, 'max_depth': 80, 'max_features': 3, 'min_samples_leaf': 3, 'min_samples_split': 8, 'n_estimators': 1000}\n",
      "GridSearchCV Best F1-Score: 0.9642\n",
      "GridSearchCV Best Precision Score: 0.9643\n",
      "GridSearchCV Best Recall Score: 0.9647\n"
     ]
    }
   ],
   "source": [
    "best_model(rf=True)"
   ]
  },
  {
   "cell_type": "markdown",
   "metadata": {},
   "source": [
    "### 4-3. SVM"
   ]
  },
  {
   "cell_type": "code",
   "execution_count": 199,
   "metadata": {},
   "outputs": [
    {
     "name": "stdout",
     "output_type": "stream",
     "text": [
      "GridSearchCV Best Parameters: {'C': 1, 'gamma': 0.001}\n",
      "GridSearchCV Best F1-Score: 0.9895\n",
      "GridSearchCV Best Precision Score: 0.9897\n",
      "GridSearchCV Best Recall Score: 0.9895\n"
     ]
    }
   ],
   "source": [
    "best_model(svm=True)"
   ]
  },
  {
   "cell_type": "markdown",
   "metadata": {},
   "source": [
    "### 4-4. SGD Classifier"
   ]
  },
  {
   "cell_type": "code",
   "execution_count": 201,
   "metadata": {},
   "outputs": [
    {
     "name": "stdout",
     "output_type": "stream",
     "text": [
      "Fitting 3 folds for each of 48 candidates, totalling 144 fits\n",
      "GridSearchCV Best Parameters: {'alpha': 0.1, 'loss': 'log', 'penalty': 'l2'}\n",
      "GridSearchCV Best F1-Score: 0.9610\n",
      "GridSearchCV Best Precision Score: 0.9611\n",
      "GridSearchCV Best Recall Score: 0.9616\n"
     ]
    }
   ],
   "source": [
    "best_model(sgd=True)"
   ]
  },
  {
   "cell_type": "markdown",
   "metadata": {},
   "source": [
    "### 4-5. Logistic Regression"
   ]
  },
  {
   "cell_type": "code",
   "execution_count": 202,
   "metadata": {},
   "outputs": [
    {
     "name": "stdout",
     "output_type": "stream",
     "text": [
      "Fitting 3 folds for each of 14 candidates, totalling 42 fits\n",
      "GridSearchCV Best Parameters: {'C': 0.01, 'penalty': 'l2'}\n",
      "GridSearchCV Best F1-Score: 0.9764\n",
      "GridSearchCV Best Precision Score: 0.9762\n",
      "GridSearchCV Best Recall Score: 0.9769\n"
     ]
    }
   ],
   "source": [
    "best_model(lr=True)"
   ]
  },
  {
   "cell_type": "markdown",
   "metadata": {},
   "source": [
    "## 5. Conlusion\n",
    "    - Best Model : SVM (F1 Score: 0.9895, Precision Score: 0.9897, Recall Score: 0.9895)"
   ]
  },
  {
   "cell_type": "markdown",
   "metadata": {},
   "source": [
    "#### 참고\n",
    "- model:\n",
    "    + GridSearch : https://scikit-learn.org/stable/modules/grid_search.html\n",
    "    + sgd: https://scikit-learn.org/stable/modules/generated/sklearn.linear_model.SGDClassifier.html\n",
    "        \n",
    "- Metrics:\n",
    "    - Metrics: https://deeesp.github.io/machine%20learning/Classification-Evaluation-Metrics/\n"
   ]
  }
 ],
 "metadata": {
  "kernelspec": {
   "display_name": "Python 3.8.13 ('tf2.8')",
   "language": "python",
   "name": "python3"
  },
  "language_info": {
   "codemirror_mode": {
    "name": "ipython",
    "version": 3
   },
   "file_extension": ".py",
   "mimetype": "text/x-python",
   "name": "python",
   "nbconvert_exporter": "python",
   "pygments_lexer": "ipython3",
   "version": "3.8.13"
  },
  "orig_nbformat": 4,
  "vscode": {
   "interpreter": {
    "hash": "20b65602904a6ff3fc15d4434a7c8a93588f98c76b1baa36944f5d2c44ba5b97"
   }
  }
 },
 "nbformat": 4,
 "nbformat_minor": 2
}
