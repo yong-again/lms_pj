{
 "cells": [
  {
   "cell_type": "code",
   "execution_count": 2,
   "metadata": {},
   "outputs": [],
   "source": [
    "import pandas as pd\n",
    "import numpy as np\n",
    "import warnings\n",
    "import matplotlib as mpl\n",
    "import matplotlib.pyplot as plt\n",
    "\n",
    "from sklearn.datasets import load_breast_cancer\n",
    "from sklearn.model_selection import train_test_split, GridSearchCV\n",
    "from sklearn import metrics\n",
    "\n",
    "warnings.filterwarnings(\"ignore\") # 오류 문구 무시"
   ]
  },
  {
   "cell_type": "code",
   "execution_count": 6,
   "metadata": {},
   "outputs": [
    {
     "data": {
      "text/plain": [
       "dict_keys(['data', 'target', 'frame', 'target_names', 'DESCR', 'feature_names', 'filename', 'data_module'])"
      ]
     },
     "execution_count": 6,
     "metadata": {},
     "output_type": "execute_result"
    }
   ],
   "source": [
    "cancer = load_breast_cancer()\n",
    "cancer.keys()"
   ]
  },
  {
   "cell_type": "code",
   "execution_count": 5,
   "metadata": {},
   "outputs": [
    {
     "data": {
      "text/plain": [
       "array(['malignant', 'benign'], dtype='<U9')"
      ]
     },
     "execution_count": 5,
     "metadata": {},
     "output_type": "execute_result"
    }
   ],
   "source": [
    "cancer.target_names"
   ]
  },
  {
   "cell_type": "code",
   "execution_count": 8,
   "metadata": {},
   "outputs": [
    {
     "data": {
      "text/plain": [
       "(569, 30)"
      ]
     },
     "metadata": {},
     "output_type": "display_data"
    },
    {
     "data": {
      "text/plain": [
       "(569,)"
      ]
     },
     "metadata": {},
     "output_type": "display_data"
    }
   ],
   "source": [
    "X, y = cancer[\"data\"], cancer[\"target\"]\n",
    "display(X.shape)\n",
    "display(y.shape)"
   ]
  },
  {
   "cell_type": "code",
   "execution_count": 9,
   "metadata": {},
   "outputs": [],
   "source": [
    "X_train, X_test, y_train, y_test = train_test_split(\n",
    "    X, y, test_size=0.3, random_state=42)"
   ]
  },
  {
   "cell_type": "markdown",
   "metadata": {},
   "source": [
    "## Best Model"
   ]
  },
  {
   "cell_type": "code",
   "execution_count": 11,
   "metadata": {},
   "outputs": [],
   "source": [
    "def best_model(dt=None, rf=None, svm=None, sgd=None, lr=None):\n",
    "    \"\"\"_summary_\n",
    "    \n",
    "    Args:\n",
    "        dt (_type_, optional): _description_. Defaults to None.\n",
    "        rf (_type_, optional): _description_. Defaults to None.\n",
    "        svm (_type_, optional): _description_. Defaults to None.\n",
    "        sgd (_type_, optional): _description_. Defaults to None.\n",
    "        lr (_type_, optional): _description_. Defaults to None.\n",
    "        \n",
    "    Output:\n",
    "        best parameters\n",
    "        best precision score\n",
    "        best recall score\n",
    "    \"\"\"\n",
    "    ###################\n",
    "    ## Libary Import\n",
    "    ###################\n",
    "    from sklearn.datasets import load_digits\n",
    "    from sklearn.model_selection import train_test_split, GridSearchCV\n",
    "    from sklearn import metrics\n",
    "\n",
    "    ###################\n",
    "    ## Decision Trees\n",
    "    ###################\n",
    "    if dt:\n",
    "        from sklearn.tree import DecisionTreeClassifier\n",
    "        \n",
    "        clf = DecisionTreeClassifier()\n",
    "        params = {\n",
    "            'max_depth':[1, 2, 3], \n",
    "            'min_samples_split':[2, 3]\n",
    "        }\n",
    "        grid_search = GridSearchCV(clf, param_grid=params, verbose=1, cv=3, refit=True, n_jobs=1)\n",
    "        grid_search.fit(X_train, y_train)\n",
    "        \n",
    "    ###################\n",
    "    ## Random Forest\n",
    "    ###################\n",
    "    elif rf:\n",
    "        from sklearn.ensemble import RandomForestClassifier\n",
    "        rfc = RandomForestClassifier()\n",
    "        params = {\n",
    "            'bootstrap': [True],\n",
    "            'max_depth': [80, 90, 100, 110],\n",
    "            'max_features': [2, 3],\n",
    "            'min_samples_leaf': [3, 4, 5],\n",
    "            'min_samples_split': [8, 10, 12],\n",
    "            'n_estimators': [100, 200, 300, 1000]\n",
    "        }\n",
    "        grid_search = GridSearchCV(estimator=rfc, param_grid=params, cv=3, n_jobs=1, verbose=1, refit=True)\n",
    "        grid_search.fit(X_train, y_train)\n",
    "    \n",
    "    ###################\n",
    "    ## SVM\n",
    "    ###################\n",
    "    elif svm:\n",
    "        from sklearn import svm\n",
    "        \n",
    "        clf = svm.SVC()\n",
    "        params = {\n",
    "            'C':[0.001,0.01,0.1,1,10,100],\n",
    "            'gamma':[0.001,0.01,0.1,1,10,100] \n",
    "        }\n",
    "\n",
    "        grid_search = GridSearchCV(clf, param_grid=params, cv=3, refit=True, n_jobs=1)\n",
    "        grid_search.fit(X_train, y_train)\n",
    "        \n",
    "    ###################\n",
    "    ## SGD\n",
    "    ###################\n",
    "    elif sgd:\n",
    "        from sklearn.linear_model import SGDClassifier\n",
    "        sgdc = SGDClassifier()\n",
    "        params = {\n",
    "            \"loss\" : [\"hinge\", \"log\", \"squared_hinge\", \"modified_huber\"],\n",
    "            \"alpha\" : [0.0001, 0.001, 0.01, 0.1],\n",
    "            \"penalty\" : [\"l2\", \"l1\", \"none\"]\n",
    "            }\n",
    "        \n",
    "        grid_search = GridSearchCV(sgdc, param_grid=params, cv=3, verbose=1, n_jobs=1, refit=True)\n",
    "        grid_search.fit(X_train, y_train)\n",
    "        \n",
    "    #######################\n",
    "    ## Logistic Regression\n",
    "    #######################\n",
    "    elif lr:\n",
    "        from sklearn.linear_model import LogisticRegression\n",
    "        \n",
    "        clf = LogisticRegression()\n",
    "        params={\n",
    "            \"C\":np.logspace(-3,3,7), \n",
    "            \"penalty\":[\"l1\",\"l2\"]\n",
    "        }\n",
    "        grid_search = GridSearchCV(clf, param_grid=params, cv=3, verbose=1, n_jobs=1, refit=True)\n",
    "        grid_search.fit(X_train, y_train)\n",
    "\n",
    "    ####################\n",
    "    ## Best Parameters\n",
    "    ####################\n",
    "    estimator = grid_search.best_estimator_\n",
    "    pred = estimator.predict(X_test)\n",
    "    \n",
    "    \n",
    "    precision_score = metrics.precision_score(y_test, pred, average='macro')\n",
    "    recall_score = metrics.recall_score(y_test, pred, average='macro')\n",
    "    f1_score = metrics.f1_score(y_test, pred, average='macro')\n",
    "    \n",
    "    print('GridSearchCV Best Parameters: {}'.format(grid_search.best_params_))\n",
    "    print('GridSearchCV Best F1-Score: {0:0.4f}'.format(f1_score))\n",
    "    print('GridSearchCV Best Precision Score: {0:0.4f}'.format(precision_score))\n",
    "    print('GridSearchCV Best Recall Score: {0:0.4f}'.format(recall_score)) "
   ]
  },
  {
   "cell_type": "code",
   "execution_count": 12,
   "metadata": {},
   "outputs": [
    {
     "name": "stdout",
     "output_type": "stream",
     "text": [
      "Fitting 3 folds for each of 6 candidates, totalling 18 fits\n",
      "GridSearchCV Best Parameters: {'max_depth': 2, 'min_samples_split': 2}\n",
      "GridSearchCV Best F1-Score: 0.9246\n",
      "GridSearchCV Best Precision Score: 0.9246\n",
      "GridSearchCV Best Recall Score: 0.9246\n"
     ]
    }
   ],
   "source": [
    "# Desicion Tree\n",
    "best_model(dt=True)"
   ]
  },
  {
   "cell_type": "code",
   "execution_count": 13,
   "metadata": {},
   "outputs": [
    {
     "name": "stdout",
     "output_type": "stream",
     "text": [
      "Fitting 3 folds for each of 288 candidates, totalling 864 fits\n",
      "GridSearchCV Best Parameters: {'bootstrap': True, 'max_depth': 80, 'max_features': 2, 'min_samples_leaf': 3, 'min_samples_split': 12, 'n_estimators': 200}\n",
      "GridSearchCV Best F1-Score: 0.9618\n",
      "GridSearchCV Best Precision Score: 0.9692\n",
      "GridSearchCV Best Recall Score: 0.9557\n"
     ]
    }
   ],
   "source": [
    "# Random Forest\n",
    "best_model(rf=True)"
   ]
  },
  {
   "cell_type": "code",
   "execution_count": 14,
   "metadata": {},
   "outputs": [
    {
     "name": "stdout",
     "output_type": "stream",
     "text": [
      "GridSearchCV Best Parameters: {'C': 1, 'gamma': 0.001}\n",
      "GridSearchCV Best F1-Score: 0.9260\n",
      "GridSearchCV Best Precision Score: 0.9201\n",
      "GridSearchCV Best Recall Score: 0.9345\n"
     ]
    }
   ],
   "source": [
    "# SVM\n",
    "best_model(svm=True)"
   ]
  },
  {
   "cell_type": "code",
   "execution_count": 15,
   "metadata": {},
   "outputs": [
    {
     "name": "stdout",
     "output_type": "stream",
     "text": [
      "Fitting 3 folds for each of 48 candidates, totalling 144 fits\n",
      "GridSearchCV Best Parameters: {'alpha': 0.0001, 'loss': 'modified_huber', 'penalty': 'l1'}\n",
      "GridSearchCV Best F1-Score: 0.9556\n",
      "GridSearchCV Best Precision Score: 0.9608\n",
      "GridSearchCV Best Recall Score: 0.9511\n"
     ]
    }
   ],
   "source": [
    "# SGD\n",
    "best_model(sgd=True)"
   ]
  },
  {
   "cell_type": "code",
   "execution_count": 16,
   "metadata": {},
   "outputs": [
    {
     "name": "stdout",
     "output_type": "stream",
     "text": [
      "Fitting 3 folds for each of 14 candidates, totalling 42 fits\n",
      "GridSearchCV Best Parameters: {'C': 1000.0, 'penalty': 'l2'}\n",
      "GridSearchCV Best F1-Score: 0.9685\n",
      "GridSearchCV Best Precision Score: 0.9701\n",
      "GridSearchCV Best Recall Score: 0.9669\n"
     ]
    }
   ],
   "source": [
    "# Logistic Regression\n",
    "best_model(lr=True)"
   ]
  },
  {
   "cell_type": "markdown",
   "metadata": {},
   "source": [
    "## Conclusion\n",
    "\n",
    "### Best Model is Logistic Regression!"
   ]
  }
 ],
 "metadata": {
  "kernelspec": {
   "display_name": "Python 3.8.13 ('tf2.8')",
   "language": "python",
   "name": "python3"
  },
  "language_info": {
   "codemirror_mode": {
    "name": "ipython",
    "version": 3
   },
   "file_extension": ".py",
   "mimetype": "text/x-python",
   "name": "python",
   "nbconvert_exporter": "python",
   "pygments_lexer": "ipython3",
   "version": "3.8.13"
  },
  "orig_nbformat": 4,
  "vscode": {
   "interpreter": {
    "hash": "20b65602904a6ff3fc15d4434a7c8a93588f98c76b1baa36944f5d2c44ba5b97"
   }
  }
 },
 "nbformat": 4,
 "nbformat_minor": 2
}
